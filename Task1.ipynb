{
 "cells": [
  {
   "cell_type": "markdown",
   "id": "aec477ee",
   "metadata": {},
   "source": [
    "Q1. What is the core assumption of Naive Bayes?\n",
    "\n",
    "\n",
    "Ans: The core assumption of Naive Bayes is the 'naive' conditional independence assumption, \n",
    "which states that all features are conditionally independent given the class label. \n",
    "This means that the presence or absence of one feature does not affect the presence \n",
    "or absence of any other feature, given the class. While this assumption is rarely \n",
    "true in real-world data, it simplifies the computation significantly and often works \n",
    "well in practice"
   ]
  },
  {
   "cell_type": "markdown",
   "id": "cdc76980",
   "metadata": {},
   "source": [
    "Q2.Differentiate between GaussianNB, MultinomialNB, and BernoulliNB.\n",
    "\n",
    "\n",
    "Ans: GaussianNB assumes that features follow a normal (Gaussian) distribution and is \n",
    "suitable for continuous numerical data. MultinomialNB is designed for discrete \n",
    "count data, typically used with text classification where features represent \n",
    "word counts or TF-IDF scores. BernoulliNB works with binary/boolean features, \n",
    "where each feature represents the presence or absence of a particular attribute, \n",
    "making it ideal for binary text classification tasks"
   ]
  },
  {
   "cell_type": "markdown",
   "id": "362d5b12",
   "metadata": {},
   "source": [
    "Q3. Why is Naive Bayes considered suitable for high-dimensional data?\n",
    "\n",
    "\n",
    "Ans: Naive Bayes is suitable for high-dimensional data because the conditional \n",
    "independence assumption reduces the number of parameters that need to be estimated \n",
    "from exponential to linear in the number of features. Instead of learning the \n",
    "joint distribution of all features, it only needs to learn the individual \n",
    "feature distributions for each class, making it computationally efficient and \n",
    "less prone to the curse of dimensionality."
   ]
  }
 ],
 "metadata": {
  "language_info": {
   "name": "python"
  }
 },
 "nbformat": 4,
 "nbformat_minor": 5
}
