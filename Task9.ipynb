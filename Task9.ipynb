{
 "cells": [
  {
   "cell_type": "code",
   "execution_count": 4,
   "id": "5bbaad27",
   "metadata": {},
   "outputs": [
    {
     "name": "stdout",
     "output_type": "stream",
     "text": [
      "           Model  Accuracy  F1-score  Training Time (s)\n",
      "0  Decision Tree  0.821229  0.757576                NaN\n",
      "1  Random Forest  0.821229  0.750000                NaN\n",
      "2       AdaBoost  0.782123  0.697674             0.1679\n",
      "\n",
      "AdaBoost Classification Report:\n",
      "               precision    recall  f1-score   support\n",
      "\n",
      "Not Survived       0.80      0.86      0.83       110\n",
      "    Survived       0.75      0.65      0.70        69\n",
      "\n",
      "    accuracy                           0.78       179\n",
      "   macro avg       0.77      0.76      0.76       179\n",
      "weighted avg       0.78      0.78      0.78       179\n",
      "\n"
     ]
    }
   ],
   "source": [
    "import pandas as pd\n",
    "from sklearn.model_selection import train_test_split\n",
    "from sklearn.tree import DecisionTreeClassifier\n",
    "from sklearn.ensemble import AdaBoostClassifier, RandomForestClassifier\n",
    "from sklearn.metrics import accuracy_score, f1_score, classification_report\n",
    "import time\n",
    "\n",
    "# 1. Load cleaned dataset\n",
    "titanic = pd.read_csv('train.csv')\n",
    "\n",
    "# 2. Features and target\n",
    "target = 'Survived'\n",
    "features = [col for col in titanic.columns if col != target]\n",
    "X = titanic[features]\n",
    "y = titanic[target]\n",
    "\n",
    "# 3. Train-test split\n",
    "X_train, X_test, y_train, y_test = train_test_split(\n",
    "    X, y, test_size=0.2, random_state=42, stratify=y\n",
    ")\n",
    "\n",
    "# 4. Train baseline models\n",
    "# Decision Tree\n",
    "base_dt = DecisionTreeClassifier(random_state=42)\n",
    "base_dt.fit(X_train, y_train)\n",
    "y_pred_dt = base_dt.predict(X_test)\n",
    "# Random Forest\n",
    "rf = RandomForestClassifier(n_estimators=100, random_state=42)\n",
    "rf.fit(X_train, y_train)\n",
    "y_pred_rf = rf.predict(X_test)\n",
    "\n",
    "# 5. Train AdaBoost\n",
    "# Use decision stump as base estimator\n",
    "stump = DecisionTreeClassifier(max_depth=1, random_state=42)\n",
    "adaboost = AdaBoostClassifier(estimator=stump, n_estimators=50, learning_rate=1.0, random_state=42)\n",
    "start_time = time.time()\n",
    "adaboost.fit(X_train, y_train)\n",
    "train_time = time.time() - start_time\n",
    "\n",
    "y_pred_ab = adaboost.predict(X_test)\n",
    "\n",
    "# 6. Evaluate all models\n",
    "results = []\n",
    "for name, y_pred in [('Decision Tree', y_pred_dt),\n",
    "                     ('Random Forest', y_pred_rf),\n",
    "                     ('AdaBoost', y_pred_ab)]:\n",
    "    acc = accuracy_score(y_test, y_pred)\n",
    "    f1 = f1_score(y_test, y_pred)\n",
    "    time_taken = round(train_time, 4) if name == 'AdaBoost' else None\n",
    "    results.append({'Model': name, 'Accuracy': acc, 'F1-score': f1, 'Training Time (s)': time_taken})\n",
    "\n",
    "results_df = pd.DataFrame(results)\n",
    "print(results_df)\n",
    "\n",
    "# 7. Detailed Classification Report for AdaBoost\n",
    "print(\"\\nAdaBoost Classification Report:\\n\", classification_report(y_test, y_pred_ab, target_names=['Not Survived','Survived']))"
   ]
  }
 ],
 "metadata": {
  "kernelspec": {
   "display_name": "Python 3",
   "language": "python",
   "name": "python3"
  },
  "language_info": {
   "codemirror_mode": {
    "name": "ipython",
    "version": 3
   },
   "file_extension": ".py",
   "mimetype": "text/x-python",
   "name": "python",
   "nbconvert_exporter": "python",
   "pygments_lexer": "ipython3",
   "version": "3.13.5"
  }
 },
 "nbformat": 4,
 "nbformat_minor": 5
}
